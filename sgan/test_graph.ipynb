{
 "cells": [
  {
   "cell_type": "markdown",
   "metadata": {},
   "source": [
    "# 测试一组数据，通过tensorboard画结构图"
   ]
  },
  {
   "cell_type": "code",
   "execution_count": 3,
   "metadata": {},
   "outputs": [],
   "source": [
    "import argparse\n",
    "import os\n",
    "import torch\n",
    "import pdb\n",
    "\n",
    "import torch.nn as nn\n",
    "\n",
    "from attrdict import AttrDict\n",
    "\n",
    "from sgan.data.loader import data_loader\n",
    "from sgan.models import TrajectoryGenerator\n",
    "from sgan.losses import displacement_error, final_displacement_error\n",
    "from sgan.utils import relative_to_abs, get_dset_path\n",
    "\n",
    "def load_model(path):\n",
    "    # torch.load最后返回的是一个dict，里面包含了保存模型时的一些参数和模型\n",
    "    checkpoint = torch.load(path, map_location='cpu')\n",
    "    generator = get_generator(checkpoint)\n",
    "    # AttrDict是根据参数中的dict内容生成一个更加方便访问的dict实例\n",
    "    args = AttrDict(checkpoint['args'])\n",
    "    path_data = get_dset_path(args.dataset_name, \"test\")\n",
    "    args.batch_size = 1\n",
    "    _, loader = data_loader(args, path_data)\n",
    "\n",
    "    return generator, loader\n",
    "\n",
    "\n",
    "def get_generator(checkpoint):\n",
    "    args = AttrDict(checkpoint['args'])\n",
    "    generator = TrajectoryGenerator(\n",
    "        obs_len=args.obs_len,\n",
    "        pred_len=args.pred_len,\n",
    "        embedding_dim=args.embedding_dim,\n",
    "        encoder_h_dim=args.encoder_h_dim_g,\n",
    "        decoder_h_dim=args.decoder_h_dim_g,\n",
    "        mlp_dim=args.mlp_dim,\n",
    "        num_layers=args.num_layers,\n",
    "        noise_dim=args.noise_dim,\n",
    "        noise_type=args.noise_type,\n",
    "        noise_mix_type=args.noise_mix_type,\n",
    "        pooling_type=args.pooling_type,\n",
    "        pool_every_timestep=args.pool_every_timestep,\n",
    "        dropout=args.dropout,\n",
    "        bottleneck_dim=args.bottleneck_dim,\n",
    "        neighborhood_size=args.neighborhood_size,\n",
    "        grid_size=args.grid_size,\n",
    "        batch_norm=args.batch_norm)\n",
    "    generator.load_state_dict(checkpoint['g_state'])\n",
    "\n",
    "    generator.eval()\n",
    "    return generator"
   ]
  },
  {
   "cell_type": "code",
   "execution_count": 4,
   "metadata": {},
   "outputs": [],
   "source": [
    "from torch.utils.tensorboard import SummaryWriter\n",
    "\n",
    "\n",
    "path = 'exp13_with_model.pt'\n",
    "generator, loader = load_model(path)"
   ]
  },
  {
   "cell_type": "code",
   "execution_count": 7,
   "metadata": {},
   "outputs": [],
   "source": [
    "with SummaryWriter('runs/test2') as wrtier:\n",
    "    with torch.no_grad():\n",
    "        for batch in loader:\n",
    "            (obs_traj, pred_traj_gt, obs_traj_rel, pred_traj_gt_rel, \n",
    "            non_linear_ped, loss_mask, seq_start_end) = batch\n",
    "\n",
    "            wrtier.add_graph(generator, (obs_traj, obs_traj_rel, seq_start_end))\n",
    "\n",
    "            # [8, 4, 2]\n",
    "            pred_traj_fake_rel = generator(\n",
    "                obs_traj, obs_traj_rel, seq_start_end\n",
    "            )\n",
    "\n",
    "            break"
   ]
  },
  {
   "cell_type": "code",
   "execution_count": null,
   "metadata": {},
   "outputs": [],
   "source": []
  }
 ],
 "metadata": {
  "kernelspec": {
   "display_name": "Python 3",
   "language": "python",
   "name": "python3"
  },
  "language_info": {
   "codemirror_mode": {
    "name": "ipython",
    "version": 3
   },
   "file_extension": ".py",
   "mimetype": "text/x-python",
   "name": "python",
   "nbconvert_exporter": "python",
   "pygments_lexer": "ipython3",
   "version": "3.7.7"
  }
 },
 "nbformat": 4,
 "nbformat_minor": 4
}
