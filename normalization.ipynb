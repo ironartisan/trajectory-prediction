{
 "cells": [
  {
   "cell_type": "markdown",
   "metadata": {
    "collapsed": true,
    "pycharm": {
     "name": "#%% md\n"
    }
   },
   "source": [
    "## 格式化时间与icao24"
   ]
  },
  {
   "cell_type": "code",
   "execution_count": 9,
   "outputs": [],
   "source": [
    "import pandas as pd\n",
    "import numpy as np\n",
    "import os\n",
    "\n",
    "data = pd.read_csv('filter_data.csv')\n",
    "del data['date']\n",
    "unique_icao24 = data['icao24'].unique()\n",
    "len(data)\n",
    "# 导出修改过reg之后的数据\n",
    "# for i in range(len(data)):\n",
    "#     data['reg'] = str(i)\n",
    "# data['time'].min()\n",
    "# data.replace()\n",
    "# 按某一列的值进行排序\n",
    "data.sort_values('time',inplace=True)\n",
    "time_min = 1587340810\n",
    "# 对单列数据操作\n",
    "data['time'] = data['time'].map(lambda x:int(x) - time_min)\n",
    "data['icao24'] = data['icao24'].map(lambda x: list(unique_icao24).index(x))\n",
    "# 格式化数据\n",
    "lat_min =data['lat'].min()\n",
    "lat_max = data['lat'].max()\n",
    "lon_min =data['lon'].min()\n",
    "lon_max = data['lon'].max()\n",
    "geoaltitude_min =data['geoaltitude'].min()\n",
    "geoaltitude_max = data['geoaltitude'].max()\n",
    "data['lat'] = data['lat'].apply(lambda x: (x - lat_min)/(lat_max - lat_min))\n",
    "data['lon'] = data['lon'].apply(lambda x: (x - lon_min)/(lon_max - lon_min))\n",
    "data['geoaltitude'] = data['geoaltitude'].apply(lambda x: (x - geoaltitude_min)/(geoaltitude_max - geoaltitude_min))\n",
    "\n",
    "# 过滤掉航迹长度小于8的行\n",
    "data = data.groupby('icao24').filter(lambda x: len(x) >= 8)"
   ],
   "metadata": {
    "collapsed": false,
    "pycharm": {
     "name": "#%%\n"
    }
   }
  },
  {
   "cell_type": "code",
   "execution_count": 10,
   "outputs": [],
   "source": [
    "## 将训练集、验证集、测试集按照6:2:2划分\n",
    "# 随机抽样\n",
    "# train, validate, test = np.split(data.sample(frac=1), [int(.7*len(data)), int(.9*len(data))])\n",
    "\n",
    "train_row = int(.6*len(data))\n",
    "val_row = int(.8*len(data))\n",
    "\n",
    "train = data.iloc[:train_row]\n",
    "val = data.iloc[train_row:val_row]\n",
    "test = data.iloc[val_row:]\n",
    "\n",
    "\n",
    "dataset_path = 'states_2020-04-20'\n",
    "train_path = os.path.join(dataset_path,\"train\")\n",
    "val_path = os.path.join(dataset_path,\"val\")\n",
    "test_path = os.path.join(dataset_path,\"test\")\n",
    "\n",
    "if not os.path.exists(train_path):\n",
    "    os.makedirs(train_path)\n",
    "\n",
    "if not os.path.exists(val_path):\n",
    "    os.makedirs(val_path)\n",
    "\n",
    "if not os.path.exists(test_path):\n",
    "    os.makedirs(test_path)\n",
    "\n",
    "train_file = os.path.join(train_path, 'train.txt')\n",
    "val_file = os.path.join(val_path, 'val.txt')\n",
    "test_file = os.path.join(test_path, 'test.txt')\n",
    "# 保存文件\n",
    "train.to_csv(train_file, index=False, sep='\\t')\n",
    "val.to_csv(val_file, index=False, sep='\\t')\n",
    "test.to_csv(test_file, index=False, sep='\\t')"
   ],
   "metadata": {
    "collapsed": false,
    "pycharm": {
     "name": "#%%\n"
    }
   }
  }
 ],
 "metadata": {
  "kernelspec": {
   "display_name": "Python 3",
   "language": "python",
   "name": "python3"
  },
  "language_info": {
   "codemirror_mode": {
    "name": "ipython",
    "version": 2
   },
   "file_extension": ".py",
   "mimetype": "text/x-python",
   "name": "python",
   "nbconvert_exporter": "python",
   "pygments_lexer": "ipython2",
   "version": "2.7.6"
  }
 },
 "nbformat": 4,
 "nbformat_minor": 0
}